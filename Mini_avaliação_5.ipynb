{
  "cells": [
    {
      "cell_type": "markdown",
      "metadata": {
        "id": "view-in-github",
        "colab_type": "text"
      },
      "source": [
        "<a href=\"https://colab.research.google.com/github/emanuel379/Analise-de-Sobrevivencia-e-Confiabilidade/blob/main/Mini_avalia%C3%A7%C3%A3o_5.ipynb\" target=\"_parent\"><img src=\"https://colab.research.google.com/assets/colab-badge.svg\" alt=\"Open In Colab\"/></a>"
      ]
    },
    {
      "cell_type": "code",
      "execution_count": null,
      "metadata": {
        "colab": {
          "base_uri": "https://localhost:8080/"
        },
        "id": "MmLtCIoeBv22",
        "outputId": "fb20e649-3f8a-4a7c-c552-ad6198ad4ba5"
      },
      "outputs": [
        {
          "metadata": {
            "tags": null
          },
          "name": "stderr",
          "output_type": "stream",
          "text": [
            "Installing packages into ‘/usr/local/lib/R/site-library’\n",
            "(as ‘lib’ is unspecified)\n",
            "\n",
            "Warning message:\n",
            "“package ‘stats4’ is a base package, and should not be updated”\n",
            "also installing the dependencies ‘listenv’, ‘parallelly’, ‘dotCall64’, ‘minqa’, ‘nloptr’, ‘shape’, ‘viridis’, ‘MatrixModels’, ‘TH.data’, ‘sandwich’, ‘htmlwidgets’, ‘RcppEigen’, ‘future’, ‘globals’, ‘spam’, ‘BH’, ‘carData’, ‘abind’, ‘pbkrtest’, ‘lme4’, ‘diagram’, ‘iterators’, ‘Hmisc’, ‘quantreg’, ‘SparseM’, ‘polspline’, ‘multcomp’, ‘htmlTable’, ‘cmprsk’, ‘doParallel’, ‘mets’, ‘plotrix’, ‘Publish’, ‘ranger’, ‘RcppArmadillo’, ‘future.apply’, ‘progressr’, ‘SQUAREM’, ‘orthopolynom’, ‘fields’, ‘mapproj’, ‘maps’, ‘MBA’, ‘corrplot’, ‘car’, ‘markdown’, ‘png’, ‘jpeg’, ‘prodlim’, ‘foreach’, ‘rms’, ‘riskRegression’, ‘lava’, ‘timereg’, ‘DEoptim’, ‘GA’, ‘gaussquad’, ‘autoimage’, ‘rbibutils’, ‘Rcpp’, ‘RcppParallel’, ‘ggrepel’, ‘ggsci’, ‘cowplot’, ‘ggsignif’, ‘polynom’, ‘rstatix’, ‘exactRankTests’, ‘zoo’, ‘km.ci’, ‘xtable’, ‘gridtext’, ‘checkmate’, ‘lazyeval’, ‘Formula’, ‘mvtnorm’, ‘pec’, ‘gamlss.data’, ‘gamlss.dist’, ‘EstimationTools’, ‘Rdpack’, ‘zipfR’, ‘BBmisc’, ‘lamW’, ‘VGAM’, ‘ggpubr’, ‘gridExtra’, ‘maxstat’, ‘survMisc’, ‘ggtext’\n",
            "\n",
            "\n"
          ]
        }
      ],
      "source": [
        "# Instalando as bibliotecas necessárias\n",
        "install.packages(c(\"broom\", \"tidyverse\", \"pammtools\", \"numDeriv\",\"gamlss\", \"gamlss.cens\", \"RelDists\", \"KMsurv\", \"survival\", \"survminer\", \"stats4\"))"
      ]
    },
    {
      "cell_type": "code",
      "execution_count": null,
      "metadata": {
        "colab": {
          "base_uri": "https://localhost:8080/"
        },
        "id": "OPIfbkuvCXhE",
        "outputId": "abb9ef2e-22e2-423b-bb3b-b6b3a8cef75a"
      },
      "outputs": [
        {
          "output_type": "stream",
          "name": "stderr",
          "text": [
            "Loading required package: splines\n",
            "\n",
            "Loading required package: gamlss.data\n",
            "\n",
            "\n",
            "Attaching package: ‘gamlss.data’\n",
            "\n",
            "\n",
            "The following object is masked from ‘package:datasets’:\n",
            "\n",
            "    sleep\n",
            "\n",
            "\n",
            "Loading required package: gamlss.dist\n",
            "\n",
            "Loading required package: nlme\n",
            "\n",
            "Loading required package: parallel\n",
            "\n",
            " **********   GAMLSS Version 5.4-22  ********** \n",
            "\n",
            "For more on GAMLSS look at https://www.gamlss.com/\n",
            "\n",
            "Type gamlssNews() to see new features/changes/bug fixes.\n",
            "\n",
            "\n",
            "Loading required package: survival\n",
            "\n",
            "── \u001b[1mAttaching core tidyverse packages\u001b[22m ──────────────────────── tidyverse 2.0.0 ──\n",
            "\u001b[32m✔\u001b[39m \u001b[34mdplyr    \u001b[39m 1.1.4     \u001b[32m✔\u001b[39m \u001b[34mreadr    \u001b[39m 2.1.5\n",
            "\u001b[32m✔\u001b[39m \u001b[34mforcats  \u001b[39m 1.0.0     \u001b[32m✔\u001b[39m \u001b[34mstringr  \u001b[39m 1.5.1\n",
            "\u001b[32m✔\u001b[39m \u001b[34mggplot2  \u001b[39m 3.4.4     \u001b[32m✔\u001b[39m \u001b[34mtibble   \u001b[39m 3.2.1\n",
            "\u001b[32m✔\u001b[39m \u001b[34mlubridate\u001b[39m 1.9.3     \u001b[32m✔\u001b[39m \u001b[34mtidyr    \u001b[39m 1.3.1\n",
            "\u001b[32m✔\u001b[39m \u001b[34mpurrr    \u001b[39m 1.0.2     \n",
            "── \u001b[1mConflicts\u001b[22m ────────────────────────────────────────── tidyverse_conflicts() ──\n",
            "\u001b[31m✖\u001b[39m \u001b[34mpurrr\u001b[39m::\u001b[32m%||%()\u001b[39m     masks \u001b[34mbase\u001b[39m::%||%()\n",
            "\u001b[31m✖\u001b[39m \u001b[34mdplyr\u001b[39m::\u001b[32mcollapse()\u001b[39m masks \u001b[34mnlme\u001b[39m::collapse()\n",
            "\u001b[31m✖\u001b[39m \u001b[34mdplyr\u001b[39m::\u001b[32mfilter()\u001b[39m   masks \u001b[34mstats\u001b[39m::filter()\n",
            "\u001b[31m✖\u001b[39m \u001b[34mdplyr\u001b[39m::\u001b[32mlag()\u001b[39m      masks \u001b[34mstats\u001b[39m::lag()\n",
            "\u001b[36mℹ\u001b[39m Use the conflicted package (\u001b[3m\u001b[34m<http://conflicted.r-lib.org/>\u001b[39m\u001b[23m) to force all conflicts to become errors\n",
            "\n",
            "Attaching package: ‘pammtools’\n",
            "\n",
            "\n",
            "The following object is masked from ‘package:stats’:\n",
            "\n",
            "    filter\n",
            "\n",
            "\n",
            "Loading required package: EstimationTools\n",
            "\n",
            "Loading required package: DEoptim\n",
            "\n",
            "\n",
            "DEoptim package\n",
            "Differential Evolution algorithm in R\n",
            "Authors: D. Ardia, K. Mullen, B. Peterson and J. Ulrich\n",
            "\n",
            "\n",
            "Loading required package: BBmisc\n",
            "\n",
            "\n",
            "Attaching package: ‘BBmisc’\n",
            "\n",
            "\n",
            "The following objects are masked from ‘package:dplyr’:\n",
            "\n",
            "    coalesce, collapse, symdiff\n",
            "\n",
            "\n",
            "The following object is masked from ‘package:nlme’:\n",
            "\n",
            "    collapse\n",
            "\n",
            "\n",
            "The following object is masked from ‘package:base’:\n",
            "\n",
            "    isFALSE\n",
            "\n",
            "\n",
            "Loading required package: GA\n",
            "\n",
            "Loading required package: foreach\n",
            "\n",
            "\n",
            "Attaching package: ‘foreach’\n",
            "\n",
            "\n",
            "The following objects are masked from ‘package:purrr’:\n",
            "\n",
            "    accumulate, when\n",
            "\n",
            "\n",
            "Loading required package: iterators\n",
            "\n",
            "Package 'GA' version 3.2.4\n",
            "Type 'citation(\"GA\")' for citing this R package in publications.\n",
            "\n",
            "\n",
            "Attaching package: ‘GA’\n",
            "\n",
            "\n",
            "The following object is masked from ‘package:utils’:\n",
            "\n",
            "    de\n",
            "\n",
            "\n",
            "Loading required package: gaussquad\n",
            "\n",
            "Loading required package: orthopolynom\n",
            "\n",
            "\n",
            "\n",
            "><<<<<<<<<<<<<<<<<<<<<<<<   EstimationTools Version 4.0.0   >>>>>>>>>>>>>>>>>>>>>>>><\n",
            "  Feel free to report bugs in https://github.com/Jaimemosg/EstimationTools/issues\n",
            "\n",
            "Loading required package: ggpubr\n",
            "\n",
            "\n",
            "Attaching package: ‘survminer’\n",
            "\n",
            "\n",
            "The following object is masked from ‘package:survival’:\n",
            "\n",
            "    myeloma\n",
            "\n",
            "\n"
          ]
        }
      ],
      "source": [
        "# Carregando pacotes ------------------------------------------------------\n",
        "# ---\n",
        "\n",
        "library(gamlss)\n",
        "library(gamlss.cens)\n",
        "library(broom)\n",
        "library(tidyverse)\n",
        "library(pammtools)\n",
        "library(numDeriv)\n",
        "library(RelDists)\n",
        "library(KMsurv)\n",
        "library(survival)\n",
        "library(survminer)\n",
        "library(stats4)"
      ]
    },
    {
      "cell_type": "code",
      "execution_count": null,
      "metadata": {
        "id": "TNx9r7CaCjE-"
      },
      "outputs": [],
      "source": [
        "# Dados\n",
        "\n",
        "data('std')\n",
        "\n",
        "temp = std$time\n",
        "\n",
        "cens = std$rinfct\n",
        "\n",
        "yschool = std$yschool\n",
        "\n",
        "npartner = std$npartner\n",
        "\n",
        "abdpain = std$abdpain\n",
        "\n",
        "dados = tibble(tempos=temp, cens=cens, yschool=yschool, npartner=npartner, abdpain=abdpain)"
      ]
    },
    {
      "cell_type": "markdown",
      "metadata": {
        "id": "zEK5ALoYffXo"
      },
      "source": [
        "**1)** Ajuste um modelo de regressão de Weibull utilizando as seguintes covariáveis: **yschool** - Anos de estudo; **npartner** - Número de parceiros nos últimos 30 dias. Analise os resultados obtidos e classifique as alternativas. Obs: as covariáveis são incluídas no parâmetro **μ**\n",
        "."
      ]
    },
    {
      "cell_type": "code",
      "execution_count": null,
      "metadata": {
        "id": "IOIrdMx2e5Yd",
        "colab": {
          "base_uri": "https://localhost:8080/"
        },
        "outputId": "32cb8a53-04e5-4ee5-c560-192487a38abe"
      },
      "outputs": [
        {
          "output_type": "stream",
          "name": "stdout",
          "text": [
            "A censored family of distributions from WEI has been generated \n",
            " and saved under the names:  \n",
            " dWEIrc pWEIrc qWEIrc WEIrc \n",
            "The type of censoring is right  \n",
            "GAMLSS-RS iteration 1: Global Deviance = 5369.856 \n",
            "GAMLSS-RS iteration 2: Global Deviance = 5369.772 \n",
            "GAMLSS-RS iteration 3: Global Deviance = 5369.767 \n",
            "GAMLSS-RS iteration 4: Global Deviance = 5369.766 \n",
            "******************************************************************\n",
            "Family:  c(\"WEIrc\", \"right censored Weibull\") \n",
            "\n",
            "Call:  gamlss(formula = Surv(tempos, cens) ~ yschool + npartner,  \n",
            "    family = cens(WEI), data = dados) \n",
            "\n",
            "Fitting method: RS() \n",
            "\n",
            "------------------------------------------------------------------\n",
            "Mu link function:  log\n",
            "Mu Coefficients:\n",
            "            Estimate Std. Error t value Pr(>|t|)    \n",
            "(Intercept)  4.73256    0.49018   9.655  < 2e-16 ***\n",
            "yschool      0.20881    0.04373   4.776  2.1e-06 ***\n",
            "npartner    -0.07160    0.06548  -1.094    0.274    \n",
            "---\n",
            "Signif. codes:  0 ‘***’ 0.001 ‘**’ 0.01 ‘*’ 0.05 ‘.’ 0.1 ‘ ’ 1\n",
            "\n",
            "------------------------------------------------------------------\n",
            "Sigma link function:  log\n",
            "Sigma Coefficients:\n",
            "            Estimate Std. Error t value Pr(>|t|)    \n",
            "(Intercept)  -0.2725     0.0446  -6.109  1.5e-09 ***\n",
            "---\n",
            "Signif. codes:  0 ‘***’ 0.001 ‘**’ 0.01 ‘*’ 0.05 ‘.’ 0.1 ‘ ’ 1\n",
            "\n",
            "------------------------------------------------------------------\n",
            "No. of observations in the fit:  877 \n",
            "Degrees of Freedom for the fit:  4\n",
            "      Residual Deg. of Freedom:  873 \n",
            "                      at cycle:  4 \n",
            " \n",
            "Global Deviance:     5369.766 \n",
            "            AIC:     5377.766 \n",
            "            SBC:     5396.872 \n",
            "******************************************************************\n"
          ]
        }
      ],
      "source": [
        "# Estimacao de maxima verossimilhanca (com o pacote gamlss) ---------------\n",
        "# ---\n",
        "gen.cens(WEI)\n",
        "mod1 = gamlss(formula=Surv(tempos,cens)~ yschool + npartner, family= cens(WEI), data=dados)\n",
        "summary(mod1)"
      ]
    },
    {
      "cell_type": "markdown",
      "metadata": {
        "id": "vHOV0MEwb8LT"
      },
      "source": [
        "I) Após o ajuste do modelo, identificou-se que as covariáveis **yschool** e **npartner** são significativas.\n",
        "\n",
        "**Falsa**: uma vez que, considerando um nível de significância de 5%, temos que a variável **yschool** é, de fato, significativa para o modelo, mas **npartner** não."
      ]
    },
    {
      "cell_type": "markdown",
      "metadata": {
        "id": "VkV5qIHccBUU"
      },
      "source": [
        "II) A estimativa obtida para a covariável **yschool** foi de 0.20882 com erro padrão de 0.04373. E a estimativa obtida para a covariável **npartner** foi de -0.07160 com erro padrão de 0.06548.\n",
        "\n",
        "**Verdadeira:** uma vez que os valores obtidos para as estimativas e o erro padrão para ambas as covariáveis com a tabela ANOVA são iguais aos apresentados na afirmativa."
      ]
    },
    {
      "cell_type": "markdown",
      "metadata": {
        "id": "1G5wd0VIcIfq"
      },
      "source": [
        "III) Após o ajuste do modelo, identificou-se que apenas a covariável **yschool** é significativa.\n",
        "\n",
        "**Verdadeira**: como já observado no item I."
      ]
    },
    {
      "cell_type": "markdown",
      "metadata": {
        "id": "9haVHwhpcMuz"
      },
      "source": [
        "IV) Todas as estimativas obtidas neste modelo ajustado podem ser interpretadas.\n",
        "\n",
        "**Falsa**: uma vez que o intercepto é não interpretável."
      ]
    },
    {
      "cell_type": "markdown",
      "metadata": {
        "id": "zxaGPMIRp-7A"
      },
      "source": [
        "**Resposta**:\n",
        "\n",
        "c) Apenas II e III"
      ]
    },
    {
      "cell_type": "markdown",
      "metadata": {
        "id": "A1QsB77EcPpv"
      },
      "source": [
        "**2)** Ajuste um modelo de regressão de Weibull utilizando a covariável **abdpain** - Presença de dor abdominal (1=sim e 0=não). Analise os resultados obtidos e selecione a alternativa correta. Obs: a covariável é incluida no parâmetro **μ**\n",
        "."
      ]
    },
    {
      "cell_type": "code",
      "execution_count": null,
      "metadata": {
        "id": "h_2KWijcd3nf",
        "colab": {
          "base_uri": "https://localhost:8080/"
        },
        "outputId": "2e038e9f-958d-442a-a4dd-a34f999fb5ac"
      },
      "outputs": [
        {
          "output_type": "stream",
          "name": "stdout",
          "text": [
            "A censored family of distributions from WEI has been generated \n",
            " and saved under the names:  \n",
            " dWEIrc pWEIrc qWEIrc WEIrc \n",
            "The type of censoring is right  \n",
            "GAMLSS-RS iteration 1: Global Deviance = 5390.44 \n",
            "GAMLSS-RS iteration 2: Global Deviance = 5390.309 \n",
            "GAMLSS-RS iteration 3: Global Deviance = 5390.301 \n",
            "GAMLSS-RS iteration 4: Global Deviance = 5390.3 \n",
            "******************************************************************\n",
            "Family:  c(\"WEIrc\", \"right censored Weibull\") \n",
            "\n",
            "Call:  gamlss(formula = Surv(tempos, cens) ~ abdpain, family = cens(WEI),  \n",
            "    data = dados) \n",
            "\n",
            "Fitting method: RS() \n",
            "\n",
            "------------------------------------------------------------------\n",
            "Mu link function:  log\n",
            "Mu Coefficients:\n",
            "            Estimate Std. Error t value Pr(>|t|)    \n",
            "(Intercept)   7.0634     0.0855  82.612   <2e-16 ***\n",
            "abdpain      -0.3929     0.1933  -2.033   0.0424 *  \n",
            "---\n",
            "Signif. codes:  0 ‘***’ 0.001 ‘**’ 0.01 ‘*’ 0.05 ‘.’ 0.1 ‘ ’ 1\n",
            "\n",
            "------------------------------------------------------------------\n",
            "Sigma link function:  log\n",
            "Sigma Coefficients:\n",
            "            Estimate Std. Error t value Pr(>|t|)    \n",
            "(Intercept) -0.28067    0.04466  -6.284 5.19e-10 ***\n",
            "---\n",
            "Signif. codes:  0 ‘***’ 0.001 ‘**’ 0.01 ‘*’ 0.05 ‘.’ 0.1 ‘ ’ 1\n",
            "\n",
            "------------------------------------------------------------------\n",
            "No. of observations in the fit:  877 \n",
            "Degrees of Freedom for the fit:  3\n",
            "      Residual Deg. of Freedom:  874 \n",
            "                      at cycle:  4 \n",
            " \n",
            "Global Deviance:     5390.3 \n",
            "            AIC:     5396.3 \n",
            "            SBC:     5410.63 \n",
            "******************************************************************\n"
          ]
        }
      ],
      "source": [
        "# Estimacao de maxima verossimilhanca (com o pacote gamlss) ---------------\n",
        "# ---\n",
        "gen.cens(WEI)\n",
        "mod2 = gamlss(formula=Surv(tempos,cens)~ abdpain, family= cens(WEI), data=dados)\n",
        "summary(mod2)"
      ]
    },
    {
      "cell_type": "markdown",
      "metadata": {
        "id": "2v2X4Is-ca5R"
      },
      "source": [
        "a) As estimativas obtidas da modelagem são **μ1**=\n",
        " 7.063, **μ2**=\n",
        "-0.393, **σ**=\n",
        "0.281\n",
        "\n",
        "**Falsa**: uma vez que o valor de **σ** predito é -0.281."
      ]
    },
    {
      "cell_type": "markdown",
      "metadata": {
        "id": "q9duUyk2cikF"
      },
      "source": [
        "b) A interpretação do parâmetro associado à variável **abdpain** é:  à medida que a dor abdominal aumenta em uma unidade, espera-se que o tempo de sobrevivência do paciente diminua em um fator de **e−0.393≈0.675**\n",
        ".\n",
        "\n",
        "**Verdadeira**: uma vez que se trata de uma transformação de variáveis via método Delta."
      ]
    },
    {
      "cell_type": "markdown",
      "metadata": {
        "id": "7tCzDkEicuGq"
      },
      "source": [
        "c) A matriz de variância-covariância é  \n",
        "\n",
        "$$Cov=\\begin{equation*}\n",
        "\\begin{bmatrix}\n",
        "0.007310457 & 0.0063106395 & −0.0016065125 \\\\\n",
        "0.006310640 & 0.0373636463 & −0.0003651316\\\\\n",
        "−0.001606512 & −0.0003651316 & 0.0019946585\n",
        "\\end{bmatrix}\n",
        "\\end{equation*}$$"
      ]
    },
    {
      "cell_type": "code",
      "execution_count": null,
      "metadata": {
        "id": "pD8fOg7Zfq8m",
        "colab": {
          "base_uri": "https://localhost:8080/",
          "height": 161
        },
        "outputId": "93762904-4f79-43d5-9619-41ade968ebba"
      },
      "outputs": [
        {
          "output_type": "display_data",
          "data": {
            "text/html": [
              "<table class=\"dataframe\">\n",
              "<caption>A matrix: 3 × 3 of type dbl</caption>\n",
              "<thead>\n",
              "\t<tr><th></th><th scope=col>(Intercept)</th><th scope=col>abdpain</th><th scope=col>(Intercept)</th></tr>\n",
              "</thead>\n",
              "<tbody>\n",
              "\t<tr><th scope=row>(Intercept)</th><td> 0.007310445</td><td>-0.0063106166</td><td>-0.0016065086</td></tr>\n",
              "\t<tr><th scope=row>abdpain</th><td>-0.006310617</td><td> 0.0373637297</td><td> 0.0003651106</td></tr>\n",
              "\t<tr><th scope=row>(Intercept)</th><td>-0.001606509</td><td> 0.0003651106</td><td> 0.0019946581</td></tr>\n",
              "</tbody>\n",
              "</table>\n"
            ],
            "text/markdown": "\nA matrix: 3 × 3 of type dbl\n\n| <!--/--> | (Intercept) | abdpain | (Intercept) |\n|---|---|---|---|\n| (Intercept) |  0.007310445 | -0.0063106166 | -0.0016065086 |\n| abdpain | -0.006310617 |  0.0373637297 |  0.0003651106 |\n| (Intercept) | -0.001606509 |  0.0003651106 |  0.0019946581 |\n\n",
            "text/latex": "A matrix: 3 × 3 of type dbl\n\\begin{tabular}{r|lll}\n  & (Intercept) & abdpain & (Intercept)\\\\\n\\hline\n\t(Intercept) &  0.007310445 & -0.0063106166 & -0.0016065086\\\\\n\tabdpain & -0.006310617 &  0.0373637297 &  0.0003651106\\\\\n\t(Intercept) & -0.001606509 &  0.0003651106 &  0.0019946581\\\\\n\\end{tabular}\n",
            "text/plain": [
              "            (Intercept)  abdpain       (Intercept)  \n",
              "(Intercept)  0.007310445 -0.0063106166 -0.0016065086\n",
              "abdpain     -0.006310617  0.0373637297  0.0003651106\n",
              "(Intercept) -0.001606509  0.0003651106  0.0019946581"
            ]
          },
          "metadata": {}
        }
      ],
      "source": [
        "vcov(mod2)"
      ]
    },
    {
      "cell_type": "markdown",
      "metadata": {
        "id": "GqGk42jMtKMa"
      },
      "source": [
        "**Falsa**: uma vez que os valores a23 = a32 = 0.0003651316, enquanto na afirmativa esses aparecem como negativos."
      ]
    },
    {
      "cell_type": "markdown",
      "metadata": {
        "id": "zz7EIkxDfriE"
      },
      "source": [
        "d) O parâmetro **σ**\n",
        " representa o logaritmo do desvio padrão da distribuição Weibull.\n",
        "\n",
        "**Falsa**: **σ** é um parâmetro estimado sem, necessáriamente, assumir qualquer relação com o desvio padrão."
      ]
    },
    {
      "cell_type": "markdown",
      "metadata": {
        "id": "KMcRIgrBfxbM"
      },
      "source": [
        "e) A estimativa do **σ**\n",
        " indica que a forma da função de risco associada a esta distribuição está diminuindo ao longo do tempo.\n",
        "\n",
        " **Verdadeira:** Valores de **σ** menores do que 1 indicam que este impacta de forma a reduzir o risco."
      ]
    },
    {
      "cell_type": "markdown",
      "source": [
        "**Resposta**:\n",
        "\n",
        "a) FVFFV"
      ],
      "metadata": {
        "id": "8HWBO02BDzFj"
      }
    },
    {
      "cell_type": "markdown",
      "source": [
        "**3)** Ajuste o modelo de Cox e considere as cováriaveis: yschool - Anos de estudo; npartner - Número de parceiros nos últimos 30 dias e abdpain - Presença de dor abdominal (1=sim e 0=não).Interprete seus parâmetros acerca da razão de riscos e julgue as sentenças abaixo."
      ],
      "metadata": {
        "id": "H9QgCKu-X6up"
      }
    },
    {
      "cell_type": "code",
      "source": [
        "# Ajustando o modelo ------------------------------------------------------\n",
        "# ---\n",
        "fit3 = coxph(Surv(tempos,cens) ~ yschool + npartner + abdpain, data=dados, x = T)\n",
        "summary(fit3)"
      ],
      "metadata": {
        "colab": {
          "base_uri": "https://localhost:8080/",
          "height": 416
        },
        "id": "89t9_Tf2i-MN",
        "outputId": "171ed730-8c09-4e5f-9b95-2ca9e1a0c62c"
      },
      "execution_count": null,
      "outputs": [
        {
          "output_type": "display_data",
          "data": {
            "text/plain": [
              "Call:\n",
              "coxph(formula = Surv(tempos, cens) ~ yschool + npartner + abdpain, \n",
              "    data = dados, x = T)\n",
              "\n",
              "  n= 877, number of events= 347 \n",
              "\n",
              "             coef exp(coef) se(coef)      z Pr(>|z|)    \n",
              "yschool  -0.16328   0.84935  0.03324 -4.912 9.02e-07 ***\n",
              "npartner  0.04937   1.05061  0.04990  0.989   0.3225    \n",
              "abdpain   0.30038   1.35038  0.14675  2.047   0.0407 *  \n",
              "---\n",
              "Signif. codes:  0 ‘***’ 0.001 ‘**’ 0.01 ‘*’ 0.05 ‘.’ 0.1 ‘ ’ 1\n",
              "\n",
              "         exp(coef) exp(-coef) lower .95 upper .95\n",
              "yschool     0.8494     1.1774    0.7958    0.9065\n",
              "npartner    1.0506     0.9518    0.9527    1.1586\n",
              "abdpain     1.3504     0.7405    1.0128    1.8004\n",
              "\n",
              "Concordance= 0.575  (se = 0.017 )\n",
              "Likelihood ratio test= 29.02  on 3 df,   p=2e-06\n",
              "Wald test            = 28.73  on 3 df,   p=3e-06\n",
              "Score (logrank) test = 28.58  on 3 df,   p=3e-06\n"
            ]
          },
          "metadata": {}
        }
      ]
    },
    {
      "cell_type": "markdown",
      "source": [
        "I) O coeficiente negativo indica que uma diminuição no tempo de escolaridade está associado a uma redução no risco de reinfecção. O hazard ratio de 0.84945 significa que para cada unidade adicional no tempo de escolaridade, o risco de reinfecção diminui em aproximadamente 15%. Com um p-valor menor que 0.01, esta covariável é estatisticamente significativa, indicando que tempo de escolaridade é um fator relevante para o risco de reinfecção.\n",
        "\n",
        "**Falsa:** a negatividade do coeficiente indica que um aumento no tempo de escolaridade reduz o risco de reinfecção, ou seja, se diminuirmos este tempo, acabamos por aumentar esse risco, corroborando a afirmação acerca do hazard ratio, que é verdadeira."
      ],
      "metadata": {
        "id": "tvzZzQDii2qQ"
      }
    },
    {
      "cell_type": "markdown",
      "source": [
        "II) O coeficiente positivo indica que um aumento no número de parceiros está associado a um aumento no risco de reinfecção. O hazard ratio de 1.05059 significa que para cada parceiro adicional, o risco de reinfecção aumenta em aproximadamente 5%. No entanto, esta covariável não é estatisticamente significativa no modelo, sugerindo que o número de parceiros pode não ter um impacto substancial no risco de reinfecção.\n",
        "\n",
        "**Verdadeira:** considerando que o valor-p é maior que o tradicional nível 0.05 de significância, temos que a covariável pode ser considerada não significativa, as interpretações acerca do coeficiente e do risco também estão corretas."
      ],
      "metadata": {
        "id": "J1PFO2s8i-ic"
      }
    },
    {
      "cell_type": "markdown",
      "source": [
        "III) O coeficiente positivo indica que a presença de dor abdominal está associada a um aumento no risco de reinfecção. O hazard ratio de 1.34956 significa que a presença de dor abdominal aumenta o risco de reinfecção em aproximadamente 35%. Com um p-valor de 0.0411, esta covariável é estatisticamente significativa, indicando que a dor abdominal é um fator relevante para o risco de reinfecção.\n",
        "\n",
        "**Verdadeira:** assim como no item precedente, temos que as interpretações para o coeficiente e o risco estão corretas, bem como o valor-p menor do que o nível de significância nos traz evidências acerca da significância estatística da covariável."
      ],
      "metadata": {
        "id": "8iZi2ZILjCWZ"
      }
    },
    {
      "cell_type": "markdown",
      "source": [
        "Resposta:\n",
        "\n",
        "a) Apenas a afirmativa I é falsa."
      ],
      "metadata": {
        "id": "c5cKYyqYJhPc"
      }
    },
    {
      "cell_type": "markdown",
      "source": [
        "**4)** Ajuste dois modelos de cox, primeiro considere as cováriaveis: npartner e abdpain. No segundo modelo adicione a interação entre as covariáveis “npartner” e “abdpain”. Acerca das afirmações abaixo classifique como verdadeira ou falsa."
      ],
      "metadata": {
        "id": "pyenXncpupSZ"
      }
    },
    {
      "cell_type": "code",
      "source": [
        "# Ajustando o modelo 1\n",
        "fit41 = coxph(Surv(tempos,cens) ~ npartner + abdpain, data=dados, x = T)\n",
        "summary(fit41)"
      ],
      "metadata": {
        "colab": {
          "base_uri": "https://localhost:8080/",
          "height": 380
        },
        "id": "swlJtRjrybG_",
        "outputId": "8b627207-12df-470e-c0fc-f8636263d34b"
      },
      "execution_count": null,
      "outputs": [
        {
          "output_type": "display_data",
          "data": {
            "text/plain": [
              "Call:\n",
              "coxph(formula = Surv(tempos, cens) ~ npartner + abdpain, data = dados, \n",
              "    x = T)\n",
              "\n",
              "  n= 877, number of events= 347 \n",
              "\n",
              "            coef exp(coef) se(coef)     z Pr(>|z|)  \n",
              "npartner 0.04343   1.04438  0.04911 0.884   0.3766  \n",
              "abdpain  0.29196   1.33905  0.14671 1.990   0.0466 *\n",
              "---\n",
              "Signif. codes:  0 ‘***’ 0.001 ‘**’ 0.01 ‘*’ 0.05 ‘.’ 0.1 ‘ ’ 1\n",
              "\n",
              "         exp(coef) exp(-coef) lower .95 upper .95\n",
              "npartner     1.044     0.9575    0.9485     1.150\n",
              "abdpain      1.339     0.7468    1.0044     1.785\n",
              "\n",
              "Concordance= 0.519  (se = 0.016 )\n",
              "Likelihood ratio test= 4.66  on 2 df,   p=0.1\n",
              "Wald test            = 5.04  on 2 df,   p=0.08\n",
              "Score (logrank) test = 5.06  on 2 df,   p=0.08\n"
            ]
          },
          "metadata": {}
        }
      ]
    },
    {
      "cell_type": "code",
      "source": [
        "# Ajustando o modelo 2\n",
        "fit42 = coxph(Surv(tempos,cens) ~ npartner + abdpain + npartner*abdpain, data=dados, x = T)\n",
        "summary(fit42)"
      ],
      "metadata": {
        "colab": {
          "base_uri": "https://localhost:8080/",
          "height": 380
        },
        "id": "bm4a7hVby3h3",
        "outputId": "2bf392fd-a641-4f86-b7dd-7094c8ba9a74"
      },
      "execution_count": null,
      "outputs": [
        {
          "output_type": "display_data",
          "data": {
            "text/plain": [
              "Call:\n",
              "coxph(formula = Surv(tempos, cens) ~ npartner + abdpain + npartner * \n",
              "    abdpain, data = dados, x = T)\n",
              "\n",
              "  n= 877, number of events= 347 \n",
              "\n",
              "                      coef exp(coef)  se(coef)     z Pr(>|z|)\n",
              "npartner         0.0002588 1.0002588 0.0660843 0.004    0.997\n",
              "abdpain          0.1506696 1.1626124 0.1959681 0.769    0.442\n",
              "npartner:abdpain 0.0990160 1.1040840 0.0899701 1.101    0.271\n",
              "\n",
              "                 exp(coef) exp(-coef) lower .95 upper .95\n",
              "npartner             1.000     0.9997    0.8787     1.139\n",
              "abdpain              1.163     0.8601    0.7918     1.707\n",
              "npartner:abdpain     1.104     0.9057    0.9256     1.317\n",
              "\n",
              "Concordance= 0.519  (se = 0.016 )\n",
              "Likelihood ratio test= 5.79  on 3 df,   p=0.1\n",
              "Wald test            = 7.33  on 3 df,   p=0.06\n",
              "Score (logrank) test = 7.76  on 3 df,   p=0.05\n"
            ]
          },
          "metadata": {}
        }
      ]
    },
    {
      "cell_type": "markdown",
      "source": [
        "I) Todas as covariáveis no primeiro modelo foram significativas a um nível de 10% de significância, mas ao considerar um nível de 5% a covariável “abdpain” não é significativa.\n",
        "\n",
        "**Falsa:** a covariável abdpain é significativa mesmo a um nível de significância de 5%, enquanto a covariável npartner pode ser considerada não significativa mesmo a um nível de significância de 10%."
      ],
      "metadata": {
        "id": "Hbh3eSBbuwuM"
      }
    },
    {
      "cell_type": "markdown",
      "source": [
        "II) O coeficiente estimado para a covariável “npartner” no primeiro modelo é positivo mas abaixo de 0.05, indicando que conforme o valor dela aumenta, o risco de falha diminui.\n",
        "\n",
        "**Falsa**: uma vez que o hazard ratio de 1.04438 nos indica que para cada parceiro adicional, o risco de reinfecção aumenta em aproximadamente 4.4%."
      ],
      "metadata": {
        "id": "D2PnrN4hzYgQ"
      }
    },
    {
      "cell_type": "markdown",
      "source": [
        "III) A magnitude do coeficiente mostra a força da associação entre a covariável e o risco de falha. Coeficientes com maior valor absoluto têm um impacto mais significativo na função de risco. Com isso a covariável que indica dor abdominal é a que possui maior impacto no primeiro modelo de cox ajustado.\n",
        "\n",
        "**Verdadeira:** uma vez que valores absolutos maiores dos coeficientes indicam maior impacto de sua respectiva covariável sobre a função de risco, além disso, com um hazard ratio de 1.33905, temos que a presença de dor abdominal aumenta o risco de reinfecção em cerca de 33.9%, sendo abdpain, por tanto, a covariável de maior impacto para o modelo 1."
      ],
      "metadata": {
        "id": "JufcsNYmz03o"
      }
    },
    {
      "cell_type": "markdown",
      "source": [
        "IV) Ao ajustar o modelo que considera a interação entre as covariáveis “npartner” e “abdpain” verificamos que esta é a que possui menor p-valor, com isso é a mais significativa, portanto, sendo necessária considerá-la na modelagem final.\n",
        "\n",
        "**Falsa:** apesar de possuir o menor valor-p, em 0.271 este ainda é muito superior às significâncias usuais, sendo assim, tal covariável, assim como as demais, também pode ser considerada não significativa estatisticamente."
      ],
      "metadata": {
        "id": "aq-WXvIjz65v"
      }
    },
    {
      "cell_type": "markdown",
      "source": [
        "Resposta:\n",
        "\n",
        "a) FFVF"
      ],
      "metadata": {
        "id": "ekYq1v3XMRPB"
      }
    },
    {
      "cell_type": "markdown",
      "source": [
        "**5)** Ajuste dois modelos de cox, sendo o primeiro considerando apenas a covariável yschool e o segundo yschool e abdpain. Indique qual das afimativas abaixo é verdadeira."
      ],
      "metadata": {
        "id": "GIeS9yqr0BEY"
      }
    },
    {
      "cell_type": "code",
      "source": [
        "# Ajustando o modelo 1\n",
        "fit51 = coxph(Surv(tempos,cens) ~ yschool, data=dados, x = T)\n",
        "summary(fit51)"
      ],
      "metadata": {
        "colab": {
          "base_uri": "https://localhost:8080/",
          "height": 326
        },
        "id": "7ZoCmkVQ0S9M",
        "outputId": "b6ef9256-d085-40fe-8f03-2ffe59ec9e35"
      },
      "execution_count": null,
      "outputs": [
        {
          "output_type": "display_data",
          "data": {
            "text/plain": [
              "Call:\n",
              "coxph(formula = Surv(tempos, cens) ~ yschool, data = dados, x = T)\n",
              "\n",
              "  n= 877, number of events= 347 \n",
              "\n",
              "            coef exp(coef) se(coef)      z Pr(>|z|)    \n",
              "yschool -0.16058   0.85165  0.03294 -4.874 1.09e-06 ***\n",
              "---\n",
              "Signif. codes:  0 ‘***’ 0.001 ‘**’ 0.01 ‘*’ 0.05 ‘.’ 0.1 ‘ ’ 1\n",
              "\n",
              "        exp(coef) exp(-coef) lower .95 upper .95\n",
              "yschool    0.8517      1.174    0.7984    0.9085\n",
              "\n",
              "Concordance= 0.567  (se = 0.016 )\n",
              "Likelihood ratio test= 23.95  on 1 df,   p=1e-06\n",
              "Wald test            = 23.76  on 1 df,   p=1e-06\n",
              "Score (logrank) test = 23.5  on 1 df,   p=1e-06\n"
            ]
          },
          "metadata": {}
        }
      ]
    },
    {
      "cell_type": "code",
      "source": [
        "# Ajustando o modelo 2\n",
        "fit52 = coxph(Surv(tempos,cens) ~ yschool + abdpain, data=dados, x = T)\n",
        "summary(fit52)"
      ],
      "metadata": {
        "colab": {
          "base_uri": "https://localhost:8080/",
          "height": 380
        },
        "id": "-iBCP1_e0a45",
        "outputId": "7795ff73-aea2-4940-aad3-7f67324c6936"
      },
      "execution_count": null,
      "outputs": [
        {
          "output_type": "display_data",
          "data": {
            "text/plain": [
              "Call:\n",
              "coxph(formula = Surv(tempos, cens) ~ yschool + abdpain, data = dados, \n",
              "    x = T)\n",
              "\n",
              "  n= 877, number of events= 347 \n",
              "\n",
              "            coef exp(coef) se(coef)      z Pr(>|z|)    \n",
              "yschool -0.16229   0.85020  0.03314 -4.897 9.75e-07 ***\n",
              "abdpain  0.30985   1.36323  0.14634  2.117   0.0342 *  \n",
              "---\n",
              "Signif. codes:  0 ‘***’ 0.001 ‘**’ 0.01 ‘*’ 0.05 ‘.’ 0.1 ‘ ’ 1\n",
              "\n",
              "        exp(coef) exp(-coef) lower .95 upper .95\n",
              "yschool    0.8502     1.1762    0.7967    0.9073\n",
              "abdpain    1.3632     0.7336    1.0233    1.8161\n",
              "\n",
              "Concordance= 0.577  (se = 0.016 )\n",
              "Likelihood ratio test= 28.13  on 2 df,   p=8e-07\n",
              "Wald test            = 27.91  on 2 df,   p=9e-07\n",
              "Score (logrank) test = 27.73  on 2 df,   p=1e-06\n"
            ]
          },
          "metadata": {}
        }
      ]
    },
    {
      "cell_type": "markdown",
      "source": [
        "a) A inclusão da covariável npartner no segundo modelo torna a covariável yschool significativa."
      ],
      "metadata": {
        "id": "3EnLHXFnpOoP"
      }
    },
    {
      "cell_type": "code",
      "source": [
        "# Ajustando o modelo 2, incluindo a variável npartner\n",
        "fit522 = coxph(Surv(tempos,cens) ~ yschool + abdpain + npartner, data=dados, x = T)\n",
        "summary(fit522)"
      ],
      "metadata": {
        "colab": {
          "base_uri": "https://localhost:8080/",
          "height": 416
        },
        "id": "3UN3jAaZqhNb",
        "outputId": "9eace893-6bae-4ed5-9350-29b57b6fe768"
      },
      "execution_count": null,
      "outputs": [
        {
          "output_type": "display_data",
          "data": {
            "text/plain": [
              "Call:\n",
              "coxph(formula = Surv(tempos, cens) ~ yschool + abdpain + npartner, \n",
              "    data = dados, x = T)\n",
              "\n",
              "  n= 877, number of events= 347 \n",
              "\n",
              "             coef exp(coef) se(coef)      z Pr(>|z|)    \n",
              "yschool  -0.16328   0.84935  0.03324 -4.912 9.02e-07 ***\n",
              "abdpain   0.30038   1.35038  0.14675  2.047   0.0407 *  \n",
              "npartner  0.04937   1.05061  0.04990  0.989   0.3225    \n",
              "---\n",
              "Signif. codes:  0 ‘***’ 0.001 ‘**’ 0.01 ‘*’ 0.05 ‘.’ 0.1 ‘ ’ 1\n",
              "\n",
              "         exp(coef) exp(-coef) lower .95 upper .95\n",
              "yschool     0.8494     1.1774    0.7958    0.9065\n",
              "abdpain     1.3504     0.7405    1.0128    1.8004\n",
              "npartner    1.0506     0.9518    0.9527    1.1586\n",
              "\n",
              "Concordance= 0.575  (se = 0.017 )\n",
              "Likelihood ratio test= 29.02  on 3 df,   p=2e-06\n",
              "Wald test            = 28.73  on 3 df,   p=3e-06\n",
              "Score (logrank) test = 28.58  on 3 df,   p=3e-06\n"
            ]
          },
          "metadata": {}
        }
      ]
    },
    {
      "cell_type": "markdown",
      "source": [
        "**Falsa:** a covariável yschool já era significativa antes da inclusão de npartner."
      ],
      "metadata": {
        "id": "CP14A5BMrJ-D"
      }
    },
    {
      "cell_type": "markdown",
      "source": [
        "\n",
        "b) A inclusão da covariável npartner no segundo modelo indica que um aumento no número de parceiros está associado a uma redução no risco de reinfecção para a cováriavel yschool, já que o coeficiente era -0.16047 e passou a ser -0.16161.\n",
        "\n",
        "**Falsa:** tal diferença está mais associada ao ajuste do modelo do que no impacto da inclusão da covariável npartner sobre yschool.\n"
      ],
      "metadata": {
        "id": "iQ-xc8cYpZFp"
      }
    },
    {
      "cell_type": "markdown",
      "source": [
        "c) O coeficiente de yschool no primeiro modelo indica que um aumento no tempo de escolaridade está associado a um aumento no risco de reinfecção.\n",
        "\n",
        "**Falsa:** o coeficiente negativo indica que aumento no tempo de escolaridade está associado à diminuição do risco de reinfecção, o hazard ratio de 0.85165 indica que cada unidade adicional no tempo de escolaridade tem um impacto sob a diminuição do risco de reinfecção de aproximadamente 15%."
      ],
      "metadata": {
        "id": "KLsh0IP1pZTJ"
      }
    },
    {
      "cell_type": "markdown",
      "source": [
        "d) No segundo modelo, o coeficiente de yschool continua significativo, enquanto o coeficiente de npartner não é estatisticamente significativo.\n",
        "\n",
        "**Verdadeira:** considerando um nível de significância de 0.05, temos que o valor-p = 9.02e-07 de yschool nos traz evidências em favor de sua significância estatística, enquanto o de npartner(0.3225) nos traz evidências contra a covariável."
      ],
      "metadata": {
        "id": "taqZ78twpn9W"
      }
    }
  ],
  "metadata": {
    "colab": {
      "provenance": [],
      "authorship_tag": "ABX9TyP1jx9R2mJOqojewpWPEh3N",
      "include_colab_link": true
    },
    "kernelspec": {
      "display_name": "R",
      "name": "ir"
    },
    "language_info": {
      "name": "R"
    }
  },
  "nbformat": 4,
  "nbformat_minor": 0
}